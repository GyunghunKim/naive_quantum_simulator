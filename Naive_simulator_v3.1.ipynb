{
 "cells": [
  {
   "cell_type": "markdown",
   "metadata": {},
   "source": [
    "## CODE"
   ]
  },
  {
   "cell_type": "markdown",
   "metadata": {},
   "source": [
    "### MEMO (8/15)\n",
    "\n",
    "전체적인 변화\n",
    "1. 계산에는 행렬을 사용함.\n",
    "2. 출력은 calculate()를 통해 이루어짐.\n",
    "3. 게이트는 gate()를 이용해 추가됨.\n",
    "\n",
    "---\n",
    "\n",
    "개선 사항\n",
    "1. 임의의 초기상태에 대해 시뮬레이트 가능하게 만들기 (구현함)\n",
    "\n",
    "2. 임의의 게이트 작동 가능하게 만들기\n",
    "  1. 단일 큐빗 게이트로서의 임의의 게이트 (구현함)\n",
    "  2. 컨트롤이 있을 때 임의의 게이트 (구현함)\n",
    "  3. 전체 유니타리 매트릭스로의 임의의 게이트 (구현 예정)\n",
    "\n",
    "3. 기타: 여러가지 예외 처리 (구현 예정)\n",
    "  1. 입력 행렬이 유니타리가 아닌 경우의 예외처리\n",
    "  2. 입력 초기 상태가 크기 1이 아닌 경우의 예외처리\n",
    "  \n",
    "4. 임의의 초기 상태에 적용할 수 있도록 marginal()을 개선해야 함."
   ]
  },
  {
   "cell_type": "code",
   "execution_count": 65,
   "metadata": {},
   "outputs": [],
   "source": [
    "import numpy as np\n",
    "import math"
   ]
  },
  {
   "cell_type": "code",
   "execution_count": 83,
   "metadata": {},
   "outputs": [],
   "source": [
    "class quantum_computer:\n",
    "    H = np.multiply(0.5**0.5,[[1.,1.],[1.,-1.]])\n",
    "    X = [[0.,1.],[1.,0.]]\n",
    "    Y = [[0.,-1.j],[1.j,0.]]\n",
    "    Z = [[1.,0.],[0.,-1.]]\n",
    "    I = [[1.,0.],[0.,1.]]\n",
    "    T = [[1.,0.],[0.,np.exp(math.pi/4*1.0j)]]\n",
    "    # dictionary for using well-known gates\n",
    "    gates = {'h':H, 'x':X, 'y':Y, 'z':Z, 'i':I, 't':T}\n",
    "    \n",
    "    def __init__(self, n):\n",
    "        self.n = n\n",
    "        self.mat = np.eye(2 ** n, dtype='complex')\n",
    "        \n",
    "        ind = []\n",
    "        for i in range(2 ** n):\n",
    "            tmp = \"\"\n",
    "            for j in range(n):\n",
    "                if (i >> (n-j-1)) & 1 == 1:\n",
    "                    tmp += ('(b' + str(j+1) + ')')\n",
    "                else:\n",
    "                    tmp += ('(a' + str(j+1) + ')')\n",
    "            ind.append(tmp)\n",
    "        self.ind = ind\n",
    "        \n",
    "            \n",
    "    def clear(self):\n",
    "        self.mat = np.eye(2 ** n, dtype='complex')\n",
    "        \n",
    "    def calculate(self, symbolic=False, prob=False, vec=[]):\n",
    "        if symbolic == True:\n",
    "            for i in range(2 ** self.n):\n",
    "                flag = 0                \n",
    "                for j in range(2 ** self.n):\n",
    "                    if self.mat[i][j] != 0:\n",
    "                        if(flag == 0):\n",
    "                            flag = 1\n",
    "                        else:\n",
    "                            print(\" + \", end='')\n",
    "                        print(\"{0:.2f} {1:}\".format(self.mat[i][j], self.ind[j]), end=\"\")\n",
    "                print()\n",
    "            print()\n",
    "            return\n",
    "        else:\n",
    "            if not vec:\n",
    "                for i in range(self.n):\n",
    "                    vec.append([1., 0.])\n",
    "            for i in range(2**self.n):\n",
    "                res = 0\n",
    "                for j in range(2**self.n):\n",
    "                    temp = self.mat[i][j];\n",
    "                    for k in range(n):\n",
    "                        temp *= vec[k][(j >> (n-k-1)) & 1]\n",
    "                    res += temp\n",
    "\n",
    "                if (prob):\n",
    "                    print(np.round(np.absolute(res) ** 2, 3))\n",
    "                else:\n",
    "                    print(np.round(res, 3))  \n",
    "            print()\n",
    "    \n",
    "    def output(self, l=0):        \n",
    "        for elem in self.mat[:, l]:\n",
    "            print(np.round(elem, 3))\n",
    "        print()\n",
    "        \n",
    "    def marginal(self, l=0):\n",
    "        print(\"\\t\\tProb 0\\tProb 1\")\n",
    "        for num in range(self.n):\n",
    "            print(num, \"Qubit:\\t\", end='')\n",
    "            count = 0\n",
    "            for i in range(2 ** self.n):\n",
    "                if i & (1 << num) == 0:\n",
    "                    count += self.mat[i, l] * np.conjugate(self.mat[i, l])\n",
    "            if np.imag(count) != 0:\n",
    "                print(\"Wrong\")\n",
    "                return\n",
    "            count = np.real(count)\n",
    "            print(np.round(count, 3), \"\\t\", np.round(1-count, 3))\n",
    "                    \n",
    "    # argument t is type of gate and a is target bit.\n",
    "    def gate(self, t, a, u=0, theta=0, control=[]):\n",
    "        if a >= self.n:\n",
    "            print(\"Overflow!\")\n",
    "            return\n",
    "                \n",
    "        if (t == \"phase\"):\n",
    "            temp_gate = [[1, 0], [0, np.exp(theta*1.0j)]]\n",
    "        elif (t == \"u\"):\n",
    "            temp_gate = np.copy(u)\n",
    "        else:\n",
    "            temp_gate = self.gates[t]\n",
    "            \n",
    "        if not control:\n",
    "            temp = 1;\n",
    "            for i in range(n):\n",
    "                if (i == a):                    \n",
    "                    temp = np.kron(temp, temp_gate)\n",
    "                else:\n",
    "                    temp = np.kron(temp, self.I)\n",
    "            self.mat = temp @ self.mat\n",
    "            \n",
    "        else:\n",
    "            if len(control) >= (self.n) or a >= self.n:\n",
    "                print(\"Overflow!\")\n",
    "                return\n",
    "            \n",
    "            for i in range(2 ** (self.n-len(control)-1)):\n",
    "                ind_list = []\n",
    "                k = 0\n",
    "                for j in range(self.n):\n",
    "                    if j == a:\n",
    "                        ind_list.append(0)\n",
    "                    elif j in control:\n",
    "                        ind_list.append(1)\n",
    "                    else:\n",
    "                        ind_list.append(1 & (i >> k))\n",
    "                        k += 1\n",
    "                        \n",
    "                ind1 = int(''.join(map(str,ind_list)), 2)\n",
    "                ind2 = ind1 | (1 << (self.n - a - 1))\n",
    "                temp1 = np.copy(self.mat[ind1])\n",
    "                temp2 = np.copy(self.mat[ind2])\n",
    "                self.mat[ind1] = temp_gate[0][0] * temp1 + temp_gate[0][1] * temp2\n",
    "                self.mat[ind2] = temp_gate[1][0] * temp1 + temp_gate[1][1] * temp2"
   ]
  },
  {
   "cell_type": "markdown",
   "metadata": {},
   "source": [
    "## Implementation"
   ]
  },
  {
   "cell_type": "code",
   "execution_count": null,
   "metadata": {
    "scrolled": false
   },
   "outputs": [],
   "source": []
  },
  {
   "cell_type": "code",
   "execution_count": null,
   "metadata": {
    "scrolled": false
   },
   "outputs": [],
   "source": []
  },
  {
   "cell_type": "code",
   "execution_count": null,
   "metadata": {
    "scrolled": false
   },
   "outputs": [],
   "source": []
  },
  {
   "cell_type": "markdown",
   "metadata": {},
   "source": [
    "### THIS IS FOR EXPLAINING INTERFACE ###"
   ]
  },
  {
   "cell_type": "code",
   "execution_count": 84,
   "metadata": {},
   "outputs": [],
   "source": [
    "# Number of qubits\n",
    "n = 3\n",
    "\n",
    "qc = quantum_computer(n)"
   ]
  },
  {
   "cell_type": "code",
   "execution_count": 85,
   "metadata": {},
   "outputs": [
    {
     "name": "stdout",
     "output_type": "stream",
     "text": [
      "1.00+0.00j (a1)(a2)(a3)\n",
      "1.00+0.00j (a1)(a2)(b3)\n",
      "1.00+0.00j (a1)(b2)(a3)\n",
      "1.00+0.00j (a1)(b2)(b3)\n",
      "1.00+0.00j (b1)(a2)(a3)\n",
      "1.00+0.00j (b1)(a2)(b3)\n",
      "1.00+0.00j (b1)(b2)(a3)\n",
      "1.00+0.00j (b1)(b2)(b3)\n",
      "\n",
      "(1+0j)\n",
      "0j\n",
      "0j\n",
      "0j\n",
      "0j\n",
      "0j\n",
      "0j\n",
      "0j\n",
      "\n",
      "1.0\n",
      "0.0\n",
      "0.0\n",
      "0.0\n",
      "0.0\n",
      "0.0\n",
      "0.0\n",
      "0.0\n",
      "\n"
     ]
    }
   ],
   "source": [
    "# To run the simulator, use claculate()\n",
    "# The initial state would be |100...0>\n",
    "\n",
    "# Symbolic representation of vector\n",
    "qc.calculate(symbolic=True)\n",
    "\n",
    "# Numerical result (with arbitary initial state)\n",
    "qc.calculate(prob=False)\n",
    "\n",
    "# Numerical Probability of each state\n",
    "qc.calculate(prob=True)"
   ]
  },
  {
   "cell_type": "code",
   "execution_count": 86,
   "metadata": {},
   "outputs": [
    {
     "name": "stdout",
     "output_type": "stream",
     "text": [
      "\t\tProb 0\tProb 1\n",
      "0 Qubit:\t1.0 \t 0.0\n",
      "1 Qubit:\t1.0 \t 0.0\n",
      "2 Qubit:\t1.0 \t 0.0\n",
      "\t\tProb 0\tProb 1\n",
      "0 Qubit:\t0.0 \t 1.0\n",
      "1 Qubit:\t0.0 \t 1.0\n",
      "2 Qubit:\t1.0 \t 0.0\n"
     ]
    }
   ],
   "source": [
    "# To figure out the probability of each qubit, use marginal().\n",
    "# This takes same argument as method output()\n",
    "qc.marginal()\n",
    "\n",
    "qc.marginal(0b011)"
   ]
  },
  {
   "cell_type": "code",
   "execution_count": 87,
   "metadata": {
    "scrolled": true
   },
   "outputs": [
    {
     "name": "stdout",
     "output_type": "stream",
     "text": [
      "0j\n",
      "0j\n",
      "0j\n",
      "0j\n",
      "0j\n",
      "0j\n",
      "0.707j\n",
      "-0.707j\n",
      "\n",
      "0.00-0.71j (b1)(b2)(a3) + 0.00-0.71j (b1)(b2)(b3)\n",
      "0.00+0.71j (b1)(b2)(a3) + 0.00-0.71j (b1)(b2)(b3)\n",
      "0.00+0.71j (b1)(a2)(a3) + 0.00+0.71j (b1)(a2)(b3)\n",
      "0.00-0.71j (b1)(a2)(a3) + 0.00+0.71j (b1)(a2)(b3)\n",
      "0.00-0.71j (a1)(b2)(a3) + 0.00-0.71j (a1)(b2)(b3)\n",
      "0.00+0.71j (a1)(b2)(a3) + 0.00-0.71j (a1)(b2)(b3)\n",
      "0.00+0.71j (a1)(a2)(a3) + 0.00+0.71j (a1)(a2)(b3)\n",
      "0.00-0.71j (a1)(a2)(a3) + 0.00+0.71j (a1)(a2)(b3)\n",
      "\n"
     ]
    }
   ],
   "source": [
    "# Apply gates as you want. It cannot be reversed.\n",
    "# To clear the circit, use clear()\n",
    "qc.clear()\n",
    "qc.gate('x', 0)\n",
    "qc.gate('y', 1)\n",
    "qc.gate('h', 2)\n",
    "qc.gate('z', 2)\n",
    "\n",
    "qc.calculate(prob=False)\n",
    "qc.calculate(symbolic=True)"
   ]
  },
  {
   "cell_type": "code",
   "execution_count": 88,
   "metadata": {},
   "outputs": [
    {
     "name": "stdout",
     "output_type": "stream",
     "text": [
      "0j\n",
      "0j\n",
      "0j\n",
      "0j\n",
      "(1+0j)\n",
      "0j\n",
      "0j\n",
      "0j\n",
      "\n",
      "0.00+1.00j (b1)(a2)(a3)\n",
      "0.00+1.00j (b1)(a2)(b3)\n",
      "0.00+1.00j (b1)(b2)(a3)\n",
      "0.00+1.00j (b1)(b2)(b3)\n",
      "1.00+0.00j (a1)(a2)(a3)\n",
      "1.00+0.00j (a1)(a2)(b3)\n",
      "1.00+0.00j (a1)(b2)(a3)\n",
      "1.00+0.00j (a1)(b2)(b3)\n",
      "\n"
     ]
    }
   ],
   "source": [
    "# Phase gate.\n",
    "qc.clear()\n",
    "qc.gate('phase', 0, theta=math.pi/2)\n",
    "qc.gate('x', 0)\n",
    "\n",
    "qc.calculate(prob=False)\n",
    "qc.calculate(symbolic=True)"
   ]
  },
  {
   "cell_type": "code",
   "execution_count": 89,
   "metadata": {
    "scrolled": false
   },
   "outputs": [
    {
     "name": "stdout",
     "output_type": "stream",
     "text": [
      "(1+0j)\n",
      "0j\n",
      "0j\n",
      "0j\n",
      "0j\n",
      "0j\n",
      "0j\n",
      "0j\n",
      "\n",
      "1.00+0.00j (a1)(a2)(a3)\n",
      "1.00+0.00j (a1)(a2)(b3)\n",
      "1.00+0.00j (a1)(b2)(a3)\n",
      "1.00+0.00j (a1)(b2)(b3)\n",
      "1.00+0.00j (b1)(b2)(a3)\n",
      "1.00+0.00j (b1)(b2)(b3)\n",
      "1.00+0.00j (b1)(a2)(a3)\n",
      "1.00+0.00j (b1)(a2)(b3)\n",
      "\n",
      "(1+0j)\n",
      "0j\n",
      "0j\n",
      "0j\n",
      "0j\n",
      "0j\n",
      "0j\n",
      "0j\n",
      "\n",
      "1.00+0.00j (a1)(a2)(a3)\n",
      "1.00+0.00j (a1)(a2)(b3)\n",
      "1.00+0.00j (a1)(b2)(a3)\n",
      "1.00+0.00j (a1)(b2)(b3)\n",
      "1.00+0.00j (b1)(b2)(a3)\n",
      "1.00+0.00j (b1)(a2)(b3)\n",
      "1.00+0.00j (b1)(a2)(a3)\n",
      "1.00+0.00j (b1)(b2)(b3)\n",
      "\n"
     ]
    }
   ],
   "source": [
    "# Arbitrary control gates can be applied as below. The CNOT gate is equal to Conrol-X gate.\n",
    "qc.clear()\n",
    "qc.gate('x', 1, control=[0]) # This is CNOT gate\n",
    "qc.calculate(prob=False)\n",
    "qc.calculate(symbolic=True)\n",
    "\n",
    "qc.gate('x', 1, control=[0, 2])\n",
    "qc.calculate(prob=False)\n",
    "qc.calculate(symbolic=True)"
   ]
  },
  {
   "cell_type": "code",
   "execution_count": 90,
   "metadata": {
    "scrolled": true
   },
   "outputs": [
    {
     "name": "stdout",
     "output_type": "stream",
     "text": [
      "0j\n",
      "0j\n",
      "(0.707+0j)\n",
      "0j\n",
      "0j\n",
      "0j\n",
      "(0.707+0j)\n",
      "0j\n",
      "\n",
      "0.71+0.00j (a1)(a2)(a3) + 0.71+0.00j (b1)(a2)(a3)\n",
      "0.71+0.00j (a1)(a2)(b3) + 0.71+0.00j (b1)(a2)(b3)\n",
      "0.71+0.00j (a1)(b2)(a3) + 0.71+0.00j (b1)(b2)(a3)\n",
      "0.71+0.00j (a1)(b2)(b3) + 0.71+0.00j (b1)(b2)(b3)\n",
      "0.71+0.00j (a1)(a2)(a3) + -0.71+0.00j (b1)(a2)(a3)\n",
      "0.71+0.00j (a1)(a2)(b3) + -0.71+0.00j (b1)(a2)(b3)\n",
      "0.71+0.00j (a1)(b2)(a3) + -0.71+0.00j (b1)(b2)(a3)\n",
      "0.71+0.00j (a1)(b2)(b3) + -0.71+0.00j (b1)(b2)(b3)\n",
      "\n"
     ]
    }
   ],
   "source": [
    "# To initialize state vector arbitrarily, use argument vec in calculate()\n",
    "\n",
    "qc.clear()\n",
    "qc.gate('h', 0)\n",
    "\n",
    "init_vec = [[1,0],[0,1],[1,0]]\n",
    "qc.calculate(prob=False, vec=init_vec)\n",
    "qc.calculate(symbolic=True, vec=init_vec)  # It's just same as qc.calculate(symbolic=True) because it's symbolic"
   ]
  },
  {
   "cell_type": "code",
   "execution_count": null,
   "metadata": {},
   "outputs": [],
   "source": []
  },
  {
   "cell_type": "code",
   "execution_count": null,
   "metadata": {},
   "outputs": [],
   "source": []
  },
  {
   "cell_type": "code",
   "execution_count": null,
   "metadata": {},
   "outputs": [],
   "source": []
  }
 ],
 "metadata": {
  "kernelspec": {
   "display_name": "Python 3",
   "language": "python",
   "name": "python3"
  },
  "language_info": {
   "codemirror_mode": {
    "name": "ipython",
    "version": 3
   },
   "file_extension": ".py",
   "mimetype": "text/x-python",
   "name": "python",
   "nbconvert_exporter": "python",
   "pygments_lexer": "ipython3",
   "version": "3.6.5"
  }
 },
 "nbformat": 4,
 "nbformat_minor": 2
}
